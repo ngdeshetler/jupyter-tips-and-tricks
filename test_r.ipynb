{
 "cells": [
  {
   "cell_type": "markdown",
   "metadata": {},
   "source": [
    "# Pipeline for Variable recalibration\n",
    "\n",
    "This pipeline uses the recalibration of Principal Age (Variable Keys 77) & Number of principals as for demonstrations\n",
    "\n",
    "Funtions included in [SRG Modeling package] defined fully here\n",
    "\n",
    "_Natalie De Shetler Start: 10/18/16_\n",
    "\n",
    "---"
   ]
  },
  {
   "cell_type": "code",
   "execution_count": 1,
   "metadata": {
    "collapsed": false
   },
   "outputs": [
    {
     "name": "stderr",
     "output_type": "stream",
     "text": [
      "Rattle: A free graphical interface for data mining with R.\n",
      "Version 4.1.0 Copyright (c) 2006-2015 Togaware Pty Ltd.\n",
      "Type 'rattle()' to shake, rattle, and roll your data.\n",
      "Loading required package: lattice\n",
      "Loading required package: ggplot2\n",
      "Loading required package: gsubfn\n",
      "Loading required package: proto\n",
      "Loading required package: RSQLite\n",
      "Loading required package: DBI\n",
      "Loading required package: gplots\n",
      "\n",
      "Attaching package: 'gplots'\n",
      "\n",
      "The following object is masked from 'package:stats':\n",
      "\n",
      "    lowess\n",
      "\n",
      "randomForest 4.6-12\n",
      "Type rfNews() to see new features/changes/bug fixes.\n",
      "\n",
      "Attaching package: 'randomForest'\n",
      "\n",
      "The following object is masked from 'package:ggplot2':\n",
      "\n",
      "    margin\n",
      "\n"
     ]
    }
   ],
   "source": [
    "library(RODBC);\n",
    "library(rpart);\n",
    "library(rpart.plot);\n",
    "library(rattle);\n",
    "library(caret);\n",
    "library(sqldf);\n",
    "library(plyr);\n",
    "library(ROCR);\n",
    "library(randomForest);\n",
    "library(pracma);"
   ]
  },
  {
   "cell_type": "code",
   "execution_count": null,
   "metadata": {
    "collapsed": true
   },
   "outputs": [],
   "source": []
  }
 ],
 "metadata": {
  "anaconda-cloud": {},
  "kernelspec": {
   "display_name": "R",
   "language": "R",
   "name": "ir"
  },
  "language_info": {
   "codemirror_mode": "r",
   "file_extension": ".r",
   "mimetype": "text/x-r-source",
   "name": "R",
   "pygments_lexer": "r",
   "version": "3.3.1"
  }
 },
 "nbformat": 4,
 "nbformat_minor": 1
}
